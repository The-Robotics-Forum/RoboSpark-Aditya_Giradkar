{
 "cells": [
  {
   "cell_type": "code",
   "execution_count": 3,
   "metadata": {},
   "outputs": [
    {
     "ename": "error",
     "evalue": "OpenCV(3.4.2) C:\\projects\\opencv-python\\opencv\\modules\\imgproc\\src\\resize.cpp:4044: error: (-215:Assertion failed) !ssize.empty() in function 'cv::resize'\n",
     "output_type": "error",
     "traceback": [
      "\u001b[1;31m---------------------------------------------------------------------------\u001b[0m",
      "\u001b[1;31merror\u001b[0m                                     Traceback (most recent call last)",
      "\u001b[1;32m<ipython-input-3-05ee2aff447b>\u001b[0m in \u001b[0;36m<module>\u001b[1;34m\u001b[0m\n\u001b[0;32m      4\u001b[0m \u001b[1;33m\u001b[0m\u001b[0m\n\u001b[0;32m      5\u001b[0m \u001b[0mimg\u001b[0m \u001b[1;33m=\u001b[0m \u001b[0mcv2\u001b[0m\u001b[1;33m.\u001b[0m\u001b[0mimread\u001b[0m\u001b[1;33m(\u001b[0m\u001b[1;34mr\"rose.jpg\"\u001b[0m\u001b[1;33m)\u001b[0m\u001b[1;33m\u001b[0m\u001b[1;33m\u001b[0m\u001b[0m\n\u001b[1;32m----> 6\u001b[1;33m \u001b[0mres\u001b[0m \u001b[1;33m=\u001b[0m \u001b[0mcv2\u001b[0m\u001b[1;33m.\u001b[0m\u001b[0mresize\u001b[0m\u001b[1;33m(\u001b[0m\u001b[0mimg\u001b[0m\u001b[1;33m,\u001b[0m\u001b[1;33m(\u001b[0m\u001b[1;36m240\u001b[0m\u001b[1;33m,\u001b[0m\u001b[1;36m400\u001b[0m\u001b[1;33m)\u001b[0m\u001b[1;33m)\u001b[0m\u001b[1;33m\u001b[0m\u001b[1;33m\u001b[0m\u001b[0m\n\u001b[0m\u001b[0;32m      7\u001b[0m \u001b[1;33m\u001b[0m\u001b[0m\n\u001b[0;32m      8\u001b[0m \u001b[0mbgrl\u001b[0m \u001b[1;33m=\u001b[0m \u001b[0mnp\u001b[0m\u001b[1;33m.\u001b[0m\u001b[0marray\u001b[0m\u001b[1;33m(\u001b[0m\u001b[1;33m[\u001b[0m\u001b[1;36m90\u001b[0m\u001b[1;33m,\u001b[0m\u001b[1;36m0\u001b[0m\u001b[1;33m,\u001b[0m\u001b[1;36m200\u001b[0m\u001b[1;33m]\u001b[0m\u001b[1;33m,\u001b[0m\u001b[0mnp\u001b[0m\u001b[1;33m.\u001b[0m\u001b[0muint8\u001b[0m\u001b[1;33m)\u001b[0m\u001b[1;33m\u001b[0m\u001b[1;33m\u001b[0m\u001b[0m\n",
      "\u001b[1;31merror\u001b[0m: OpenCV(3.4.2) C:\\projects\\opencv-python\\opencv\\modules\\imgproc\\src\\resize.cpp:4044: error: (-215:Assertion failed) !ssize.empty() in function 'cv::resize'\n"
     ]
    }
   ],
   "source": [
    "import cv2\n",
    "import numpy as np\n",
    "\n",
    "\n",
    "img = cv2.imread(r\"rose.jpg\")\n",
    "res = cv2.resize(img,(240,400))\n",
    "\n",
    "bgrl = np.array([90,0,200],np.uint8)\n",
    "bgrh = np.array([215,255,255],np.uint8)\n",
    "mask = cv2.inRange(res,bgrl,bgrh)\n",
    "\n",
    "kernel = np.array(([0,0,0],[0,1,0],[0,0,0]),np.uint8)\n",
    "\n",
    "blur = cv2.filter2D(res,-1,kernel)\n",
    "avg = cv2.blur(res,(7,7))\n",
    "gaus = cv2.GaussianBlur(res,(5,5),0)\n",
    "med = cv2.medianBlur(res,3)\n",
    "bif = cv2.bilateralFilter(res,7,111,111)\n",
    "\n",
    "img = cv2.rectangle(res,(0,250),(120,300),(0,0,0),-1)\n",
    "img = cv2.circle(img,(56,335),65,(0,0,0),-1)\n",
    "font = cv2.FONT_HERSHEY_COMPLEX\n",
    "cv2.putText(img,\"Flower\",(0,275),font ,1,(255,255,255),1)\n",
    "\n",
    "\n",
    "cv2.imshow(\"flow\",res)\n",
    "cv2.imshow(\"mask\",mask)\n",
    "cv2.imshow(\"blur\",blur)\n",
    "cv2.imshow(\"average\",avg)\n",
    "cv2.imshow(\"gaus\",gaus)\n",
    "cv2.imshow(\"med\",med)\n",
    "cv2.imshow(\"bilateral\",bif)\n",
    "cv2.imshow(\"flower pot\",img)\n",
    "\n",
    "cv2.imwrite(\"D:\\TRF\\Task Day 2/mask.jpg\",mask)\n",
    "cv2.imwrite(\"D:\\TRF\\Task Day 2/blur.jpg\",blur)\n",
    "cv2.imwrite(\"D:\\TRF\\Task Day 2/avg.jpg\",avg)\n",
    "cv2.imwrite(\"D:\\TRF\\Task Day 2/gaus.jpg\",gaus)\n",
    "cv2.imwrite(\"D:\\TRF\\Task Day 2/med.jpg\",med)\n",
    "cv2.imwrite(\"D:\\TRF\\Task Day 2/bif.jpg\",bif)\n",
    "cv2.imwrite(\"D:\\TRF\\Task Day 2/text.jpg\",img)\n",
    "cv2.waitKey(0)"
   ]
  },
  {
   "cell_type": "code",
   "execution_count": null,
   "metadata": {},
   "outputs": [],
   "source": []
  }
 ],
 "metadata": {
  "kernelspec": {
   "display_name": "Python 3",
   "language": "python",
   "name": "python3"
  },
  "language_info": {
   "codemirror_mode": {
    "name": "ipython",
    "version": 3
   },
   "file_extension": ".py",
   "mimetype": "text/x-python",
   "name": "python",
   "nbconvert_exporter": "python",
   "pygments_lexer": "ipython3",
   "version": "3.7.7"
  }
 },
 "nbformat": 4,
 "nbformat_minor": 4
}
